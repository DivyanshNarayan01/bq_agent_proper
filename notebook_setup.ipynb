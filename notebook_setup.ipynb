{
 "cells": [
  {
   "cell_type": "markdown",
   "metadata": {},
   "source": [
    "# BigQuery Data Agent Setup\n",
    "\n",
    "This notebook helps you set up and run the BigQuery Data Agent in your BigQuery notebook environment with your Gemini API key and specific table names."
   ]
  },
  {
   "cell_type": "markdown",
   "metadata": {},
   "source": "## Step 1: Configure API Key and Tables\n\n**🔐 Security Note**: We use `getpass` to securely input your API key without displaying it on screen or saving it in notebook history.\n\nSet your Gemini API key and BigQuery table names:"
  },
  {
   "cell_type": "code",
   "execution_count": null,
   "metadata": {},
   "outputs": [],
   "source": "# Configure your settings securely\nimport os\nimport getpass\n\n# Securely input your Gemini API key (won't be displayed)\nprint(\"Enter your Gemini API key:\")\napi_key = getpass.getpass(\"API Key: \")\nos.environ['GOOGLE_API_KEY'] = api_key\n\n# Set your BigQuery table(s) - comma separated if multiple\n# Example: os.environ['BIGQUERY_TABLES'] = 'your-project.your_dataset.your_table'\n# Leave empty to explore all available datasets and tables\nbigquery_tables = input(\"Enter BigQuery tables (optional, comma-separated): \").strip()\nos.environ['BIGQUERY_TABLES'] = bigquery_tables\n\nprint('✅ Configuration set securely!')\nprint(f'   BigQuery tables: {bigquery_tables or \"None (will explore all available)\"}')"
  },
  {
   "cell_type": "markdown",
   "metadata": {},
   "source": [
    "## Step 2: Clone Repository and Install Dependencies"
   ]
  },
  {
   "cell_type": "code",
   "execution_count": null,
   "metadata": {},
   "outputs": [],
   "source": "# Clone repository if needed\n!git clone https://github.com/your-username/bq_agent_proper.git\n%cd bq_agent_proper\n\n# Install required packages\n!pip install -r requirements.txt"
  },
  {
   "cell_type": "markdown",
   "metadata": {},
   "source": [
    "## Step 3: Test Agent Import"
   ]
  },
  {
   "cell_type": "code",
   "execution_count": null,
   "metadata": {},
   "outputs": [],
   "source": [
    "# Test that the agent can be imported\n",
    "from greeting_agent.agent import root_agent\n",
    "print(f\"Agent loaded: {root_agent.name}\")\n",
    "print(f\"Description: {root_agent.description}\")\n",
    "print(f\"Number of tools: {len(root_agent.tools)}\")"
   ]
  },
  {
   "cell_type": "markdown",
   "metadata": {},
   "source": [
    "## Step 4: Test with Your Data\n",
    "\n",
    "Try asking the agent about your configured data:"
   ]
  },
  {
   "cell_type": "code",
   "execution_count": null,
   "metadata": {},
   "outputs": [],
   "source": [
    "# Example: Ask the agent about your data\n",
    "response = root_agent.run(\"What data do I have available?\")\n",
    "print(response)"
   ]
  },
  {
   "cell_type": "markdown",
   "metadata": {},
   "source": "## Step 5: More Example Queries\n\nTry these example questions with your data:"
  },
  {
   "cell_type": "code",
   "execution_count": null,
   "metadata": {},
   "outputs": [],
   "source": "# Get table schema (replace 'your_table' with your actual table name)\nresponse = root_agent.run(\"What columns are in my_table?\")\nprint(response)"
  },
  {
   "cell_type": "code",
   "execution_count": null,
   "metadata": {},
   "outputs": [],
   "source": "# Sample the data\nresponse = root_agent.run(\"Show me the first 5 rows of my data\")\nprint(response)"
  },
  {
   "cell_type": "code",
   "execution_count": null,
   "metadata": {},
   "outputs": [],
   "source": "# Count records\nresponse = root_agent.run(\"How many records are in my table?\")\nprint(response)"
  },
  {
   "cell_type": "markdown",
   "metadata": {},
   "source": "## Example Questions to Try\n\nOnce your agent is running, try these example questions:\n\n- \"What datasets are available?\"\n- \"What tables are in the [dataset_name] dataset?\"\n- \"What columns are in [table_name]?\"\n- \"Show me the first 10 rows of [table_name]\"\n- \"How many records are in [table_name]?\"\n- \"What are the unique values in [column_name]?\"\n\nReplace `[dataset_name]`, `[table_name]`, and `[column_name]` with actual names from your project."
  },
  {
   "cell_type": "markdown",
   "metadata": {},
   "source": [
    "## Alternative: Use Configuration Helper\n",
    "\n",
    "You can also use the configuration helper for a cleaner setup:"
   ]
  },
  {
   "cell_type": "code",
   "execution_count": null,
   "metadata": {},
   "outputs": [],
   "source": "# Alternative: Use secure configuration helper\nfrom config import secure_setup\n\n# This will prompt for API key securely (input hidden)\nsecure_setup()\n\n# Agent is now ready to use!"
  },
  {
   "cell_type": "markdown",
   "metadata": {},
   "source": [
    "## Troubleshooting\n",
    "\n",
    "If you encounter issues:\n",
    "\n",
    "1. **API Key issues**: Make sure your Gemini API key is correct and has proper permissions\n",
    "2. **Table access**: Verify that your BigQuery table name is correct and you have access\n",
    "3. **Authentication**: Ensure you're running in a BigQuery notebook with proper project access\n",
    "\n",
    "Run this cell to check your environment:"
   ]
  },
  {
   "cell_type": "code",
   "execution_count": null,
   "metadata": {},
   "outputs": [],
   "source": [
    "# Check environment\n",
    "import sys\n",
    "print(f\"Python version: {sys.version}\")\n",
    "\n",
    "# Check configuration\n",
    "import os\n",
    "print(f\"Gemini API key configured: {bool(os.getenv('GOOGLE_API_KEY'))}\")\n",
    "print(f\"BigQuery tables configured: {os.getenv('BIGQUERY_TABLES', 'None')}\")\n",
    "\n",
    "# Check BigQuery access\n",
    "try:\n",
    "    from google.cloud import bigquery\n",
    "    client = bigquery.Client()\n",
    "    print(f\"BigQuery client initialized for project: {client.project}\")\n",
    "except Exception as e:\n",
    "    print(f\"BigQuery setup error: {e}\")\n",
    "\n",
    "# Test agent import\n",
    "try:\n",
    "    from greeting_agent.agent import root_agent\n",
    "    print(f\"Agent successfully loaded: {root_agent.name}\")\n",
    "except Exception as e:\n",
    "    print(f\"Agent import error: {e}\")"
   ]
  }
 ],
 "metadata": {
  "kernelspec": {
   "display_name": "Python 3",
   "language": "python",
   "name": "python3"
  },
  "language_info": {
   "codemirror_mode": {
    "name": "ipython",
    "version": 3
   },
   "file_extension": ".py",
   "mimetype": "text/x-python",
   "name": "python",
   "nbconvert_exporter": "python",
   "pygments_lexer": "ipython3",
   "version": "3.8.0"
  }
 },
 "nbformat": 4,
 "nbformat_minor": 4
}